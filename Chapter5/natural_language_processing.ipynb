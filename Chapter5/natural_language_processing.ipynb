{
  "nbformat": 4,
  "nbformat_minor": 5,
  "metadata": {
    "celltoolbar": "Tags",
    "kernelspec": {
      "display_name": "Python 3 (ipykernel)",
      "language": "python",
      "name": "python3"
    },
    "language_info": {
      "codemirror_mode": {
        "name": "ipython",
        "version": 3
      },
      "file_extension": ".py",
      "mimetype": "text/x-python",
      "name": "python",
      "nbconvert_exporter": "python",
      "pygments_lexer": "ipython3",
      "version": "3.8.10"
    },
    "toc": {
      "base_numbering": 1,
      "nav_menu": {},
      "number_sections": true,
      "sideBar": true,
      "skip_h1_title": false,
      "title_cell": "Table of Contents",
      "title_sidebar": "Contents",
      "toc_cell": false,
      "toc_position": {},
      "toc_section_display": true,
      "toc_window_display": false
    },
    "colab": {
      "name": "natural_language_processing.ipynb",
      "provenance": [],
      "include_colab_link": true
    }
  },
  "cells": [
    {
      "cell_type": "markdown",
      "metadata": {
        "id": "view-in-github",
        "colab_type": "text"
      },
      "source": [
        "<a href=\"https://colab.research.google.com/github/swastik-thetaonelab/anothermitra/blob/main/Chapter5/natural_language_processing.ipynb\" target=\"_parent\"><img src=\"https://colab.research.google.com/assets/colab-badge.svg\" alt=\"Open In Colab\"/></a>"
      ]
    },
    {
      "cell_type": "markdown",
      "metadata": {
        "id": "5ebef801"
      },
      "source": [
        "## Natural Language Processing"
      ],
      "id": "5ebef801"
    },
    {
      "cell_type": "markdown",
      "metadata": {
        "id": "bd54ea0b"
      },
      "source": [
        "This section some tools to process and work with text."
      ],
      "id": "bd54ea0b"
    },
    {
      "cell_type": "markdown",
      "metadata": {
        "id": "949732cf"
      },
      "source": [
        "### TextBlob: Processing Text in One Line of Code"
      ],
      "id": "949732cf"
    },
    {
      "cell_type": "markdown",
      "metadata": {
        "id": "955a5dec"
      },
      "source": [
        "Processing text doesn’t need to be hard. If you want to find the sentiment of the text, tokenize text, find noun phrase and word frequencies, correct spelling, etc in one line of code, try TextBlob.\n"
      ],
      "id": "955a5dec"
    },
    {
      "cell_type": "code",
      "metadata": {
        "tags": [
          "hide-cell"
        ],
        "id": "5afbc829"
      },
      "source": [
        "!pip install textblob"
      ],
      "id": "5afbc829",
      "execution_count": null,
      "outputs": []
    },
    {
      "cell_type": "code",
      "metadata": {
        "ExecuteTime": {
          "end_time": "2021-09-11T19:51:37.955589Z",
          "start_time": "2021-09-11T19:51:31.261340Z"
        },
        "tags": [
          "hide-cell"
        ],
        "id": "cf3f17a9",
        "outputId": "8d34800d-b05a-43b1-a0be-24d418189381"
      },
      "source": [
        "!python -m textblob.download_corpora"
      ],
      "id": "cf3f17a9",
      "execution_count": null,
      "outputs": [
        {
          "name": "stdout",
          "output_type": "stream",
          "text": [
            "[nltk_data] Downloading package brown to /home/khuyen/nltk_data...\n",
            "[nltk_data]   Unzipping corpora/brown.zip.\n",
            "[nltk_data] Downloading package punkt to /home/khuyen/nltk_data...\n",
            "[nltk_data]   Package punkt is already up-to-date!\n",
            "[nltk_data] Downloading package wordnet to /home/khuyen/nltk_data...\n",
            "[nltk_data]   Unzipping corpora/wordnet.zip.\n",
            "[nltk_data] Downloading package averaged_perceptron_tagger to\n",
            "[nltk_data]     /home/khuyen/nltk_data...\n",
            "[nltk_data]   Unzipping taggers/averaged_perceptron_tagger.zip.\n",
            "[nltk_data] Downloading package conll2000 to /home/khuyen/nltk_data...\n",
            "[nltk_data]   Unzipping corpora/conll2000.zip.\n",
            "[nltk_data] Downloading package movie_reviews to\n",
            "[nltk_data]     /home/khuyen/nltk_data...\n",
            "[nltk_data]   Unzipping corpora/movie_reviews.zip.\n",
            "Finished.\n"
          ]
        }
      ]
    },
    {
      "cell_type": "code",
      "metadata": {
        "ExecuteTime": {
          "end_time": "2021-09-11T19:52:20.151345Z",
          "start_time": "2021-09-11T19:52:19.550236Z"
        },
        "id": "d288b6e4",
        "outputId": "930465ba-89c0-42c3-a5df-dfcda993ea87"
      },
      "source": [
        "from textblob import TextBlob\n",
        "\n",
        "text = \"Today is a beautiful day\"\n",
        "blob = TextBlob(text)\n",
        "\n",
        "blob.words # Word tokenization"
      ],
      "id": "d288b6e4",
      "execution_count": null,
      "outputs": [
        {
          "data": {
            "text/plain": [
              "WordList(['Today', 'is', 'a', 'beautiful', 'day'])"
            ]
          },
          "execution_count": 4,
          "metadata": {},
          "output_type": "execute_result"
        }
      ]
    },
    {
      "cell_type": "code",
      "metadata": {
        "ExecuteTime": {
          "end_time": "2021-09-11T20:00:36.202229Z",
          "start_time": "2021-09-11T20:00:34.486752Z"
        },
        "id": "c46e3ebf",
        "outputId": "c5cbe29a-9701-487c-b557-2ae51e5e901e"
      },
      "source": [
        "blob.noun_phrases # Noun phrase extraction"
      ],
      "id": "c46e3ebf",
      "execution_count": null,
      "outputs": [
        {
          "data": {
            "text/plain": [
              "WordList(['beautiful day'])"
            ]
          },
          "execution_count": 5,
          "metadata": {},
          "output_type": "execute_result"
        }
      ]
    },
    {
      "cell_type": "code",
      "metadata": {
        "ExecuteTime": {
          "end_time": "2021-09-11T20:00:50.304564Z",
          "start_time": "2021-09-11T20:00:50.214464Z"
        },
        "id": "693f66ff",
        "outputId": "52f4d1ed-0f62-4352-f078-c0bd0e75a603"
      },
      "source": [
        "blob.sentiment # Sentiment analysis"
      ],
      "id": "693f66ff",
      "execution_count": null,
      "outputs": [
        {
          "data": {
            "text/plain": [
              "Sentiment(polarity=0.85, subjectivity=1.0)"
            ]
          },
          "execution_count": 6,
          "metadata": {},
          "output_type": "execute_result"
        }
      ]
    },
    {
      "cell_type": "code",
      "metadata": {
        "ExecuteTime": {
          "end_time": "2021-09-11T20:01:06.103565Z",
          "start_time": "2021-09-11T20:01:06.094771Z"
        },
        "id": "95f29044",
        "outputId": "e035bc9b-7200-40c5-98de-f404145bdcc3"
      },
      "source": [
        "blob.word_counts # Word counts"
      ],
      "id": "95f29044",
      "execution_count": null,
      "outputs": [
        {
          "data": {
            "text/plain": [
              "defaultdict(int, {'today': 1, 'is': 1, 'a': 1, 'beautiful': 1, 'day': 1})"
            ]
          },
          "execution_count": 7,
          "metadata": {},
          "output_type": "execute_result"
        }
      ]
    },
    {
      "cell_type": "code",
      "metadata": {
        "ExecuteTime": {
          "end_time": "2021-09-11T20:01:19.435133Z",
          "start_time": "2021-09-11T20:01:19.335471Z"
        },
        "id": "8c1c04df",
        "outputId": "615bf157-a751-4115-fcb1-b56e6c0e2ab5"
      },
      "source": [
        "# Spelling correction\n",
        "text = \"Today is a beutiful day\"\n",
        "blob = TextBlob(text)\n",
        "blob.correct()"
      ],
      "id": "8c1c04df",
      "execution_count": null,
      "outputs": [
        {
          "data": {
            "text/plain": [
              "TextBlob(\"Today is a beautiful day\")"
            ]
          },
          "execution_count": 8,
          "metadata": {},
          "output_type": "execute_result"
        }
      ]
    },
    {
      "cell_type": "markdown",
      "metadata": {
        "id": "004126f8"
      },
      "source": [
        "[Link to TextBlob](https://textblob.readthedocs.io/en/dev/).\n",
        "\n",
        "[Link to my article about TextBlob](https://towardsdatascience.com/supercharge-your-python-string-with-textblob-2d9c08a8da05?sk=b9de5981cf74c0adf8d9f2a913e3ca05)."
      ],
      "id": "004126f8"
    },
    {
      "cell_type": "markdown",
      "metadata": {
        "id": "2faf6cf6"
      },
      "source": [
        "### sumy: Summarize Text in One Line of Code"
      ],
      "id": "2faf6cf6"
    },
    {
      "cell_type": "code",
      "metadata": {
        "tags": [
          "hide-cell"
        ],
        "id": "f21b9a66"
      },
      "source": [
        "!pip install sumy"
      ],
      "id": "f21b9a66",
      "execution_count": null,
      "outputs": []
    },
    {
      "cell_type": "markdown",
      "metadata": {
        "id": "8559de18"
      },
      "source": [
        "If you want to summarize text using Python or command line, try sumy.\n",
        "\n",
        "The great things about sumy compared to other summarization tools are that it is easy to use and it allows you to use 7 different methods to summarize the text.\n",
        "\n",
        "Below is how sumy summarizes the article How to Learn Data Science (Step-By-Step) in 2020 at DataQuest."
      ],
      "id": "8559de18"
    },
    {
      "cell_type": "markdown",
      "metadata": {
        "id": "3ca5c1a9"
      },
      "source": [
        "```bash\n",
        "$ sumy lex-rank --length=10 --url=https://www.dataquest.io/blog/learn-data-science/ \n",
        "```"
      ],
      "id": "3ca5c1a9"
    },
    {
      "cell_type": "code",
      "metadata": {
        "ExecuteTime": {
          "end_time": "2021-09-11T20:04:14.779605Z",
          "start_time": "2021-09-11T20:04:13.400330Z"
        },
        "id": "087847c2",
        "outputId": "7eb35d4a-fcc0-4a16-d9c4-d07070f85810"
      },
      "source": [
        "!sumy lex-rank --length=10 --url=https://www.dataquest.io/blog/learn-data-science/ "
      ],
      "id": "087847c2",
      "execution_count": null,
      "outputs": [
        {
          "name": "stdout",
          "output_type": "stream",
          "text": [
            "So how do you start to learn data science?\r\n",
            "If I had started learning data science this way, I never would have kept going.\r\n",
            "I learn when I’m motivated, and when I know why I’m learning something.\r\n",
            "There’s some science behind this, too.\r\n",
            "If you want to learn data science or just pick up some data science skills, your first goal should be to learn to love data.\r\n",
            "But it’s important to find that thing that makes you want to learn.\r\n",
            "By working on projects, you gain skills that are immediately applicable and useful, because real-world data scientists have to see data science projects through from start to finish, and most of that work is in fundamentals like cleaning and managing the data.\r\n",
            "And so on, until the algorithm worked well.\r\n",
            "Find people to work with at meetups.\r\n",
            "For more information on these, you can take a look at our Data Scientist learning path , which is designed to teach all of the important data science skills for Python learners.\r\n"
          ]
        }
      ]
    },
    {
      "cell_type": "markdown",
      "metadata": {
        "id": "381bd10d"
      },
      "source": [
        "[Link to Sumy](https://github.com/miso-belica/sumy)."
      ],
      "id": "381bd10d"
    },
    {
      "cell_type": "markdown",
      "metadata": {
        "id": "3bb41352"
      },
      "source": [
        "### Spacy_streamlit: Create a Web App to Visualize Your Text in 3 Lines of Code"
      ],
      "id": "3bb41352"
    },
    {
      "cell_type": "code",
      "metadata": {
        "tags": [
          "hide-cell"
        ],
        "id": "1a6a87d6"
      },
      "source": [
        "!pip install spacy-streamlit"
      ],
      "id": "1a6a87d6",
      "execution_count": null,
      "outputs": []
    },
    {
      "cell_type": "markdown",
      "metadata": {
        "id": "83098e36"
      },
      "source": [
        "If you want to quickly create an app to visualize the structure of a text, try spacy_streamlit. "
      ],
      "id": "83098e36"
    },
    {
      "cell_type": "markdown",
      "metadata": {
        "ExecuteTime": {
          "end_time": "2021-09-12T12:22:00.516477Z",
          "start_time": "2021-09-12T12:22:00.343387Z"
        },
        "tags": [
          "hide-output"
        ],
        "id": "1eb3d963"
      },
      "source": [
        "To understand how to use spacy_streamlit, we add the code below to a file called `streamlit_app.py`:\n",
        "```python\n",
        "# streamlit_app.py\n",
        "import spacy_streamlit \n",
        "\n",
        "models = ['en_core_web_sm']\n",
        "text = \"Today is a beautiful day\"\n",
        "spacy_streamlit.visualize(models, text)\n",
        "```"
      ],
      "id": "1eb3d963"
    },
    {
      "cell_type": "markdown",
      "metadata": {
        "id": "c34524df"
      },
      "source": [
        "On your terminal, type:\n",
        "```bash\n",
        "$ streamlit run streamlit_app.py\n",
        "```\n",
        "Output:"
      ],
      "id": "c34524df"
    },
    {
      "cell_type": "code",
      "metadata": {
        "ExecuteTime": {
          "end_time": "2021-09-12T12:24:08.654005Z",
          "start_time": "2021-09-12T12:24:03.503893Z"
        },
        "tags": [
          "hide-cell"
        ],
        "id": "252f7039"
      },
      "source": [
        "!python -m spacy download en_core_web_sm"
      ],
      "id": "252f7039",
      "execution_count": null,
      "outputs": []
    },
    {
      "cell_type": "code",
      "metadata": {
        "ExecuteTime": {
          "end_time": "2021-09-12T12:24:20.087688Z",
          "start_time": "2021-09-12T12:24:13.167505Z"
        },
        "tags": [
          "hide-input"
        ],
        "id": "051d279f",
        "outputId": "1baeb8a5-8447-4b2b-d8bd-275b466ece70"
      },
      "source": [
        "!streamlit run streamlit_app.py"
      ],
      "id": "051d279f",
      "execution_count": null,
      "outputs": [
        {
          "name": "stdout",
          "output_type": "stream",
          "text": [
            "\u001b[0m\n",
            "\u001b[34m\u001b[1m  You can now view your Streamlit app in your browser.\u001b[0m\n",
            "\u001b[0m\n",
            "\u001b[34m  Local URL: \u001b[0m\u001b[1mhttp://localhost:8501\u001b[0m\n",
            "\u001b[34m  Network URL: \u001b[0m\u001b[1mhttp://192.168.1.90:8501\u001b[0m\n",
            "\u001b[0m\n",
            "^C\n",
            "\u001b[34m  Stopping...\u001b[0m\n"
          ]
        }
      ]
    },
    {
      "cell_type": "markdown",
      "metadata": {
        "id": "fb7e47e0"
      },
      "source": [
        "Click the URL and you should see something like below:"
      ],
      "id": "fb7e47e0"
    },
    {
      "cell_type": "markdown",
      "metadata": {
        "id": "3514ae4f"
      },
      "source": [
        "![image](https://github.com/khuyentran1401/Efficient_Python_tricks_and_tools_for_data_scientists/blob/master/Chapter5/streamlit_app.png?raw=1)"
      ],
      "id": "3514ae4f"
    },
    {
      "cell_type": "markdown",
      "metadata": {
        "id": "bc55590d"
      },
      "source": [
        "[Link to spacy-streamlit](https://spacy.io/universe/project/spacy-streamlit)."
      ],
      "id": "bc55590d"
    },
    {
      "cell_type": "markdown",
      "metadata": {
        "id": "f80e80e7"
      },
      "source": [
        "### textacy: Extract a Contiguous Sequence of 2 Words"
      ],
      "id": "f80e80e7"
    },
    {
      "cell_type": "code",
      "metadata": {
        "tags": [
          "hide-cell"
        ],
        "id": "ef39500c"
      },
      "source": [
        "!pip install spacy textacy"
      ],
      "id": "ef39500c",
      "execution_count": null,
      "outputs": []
    },
    {
      "cell_type": "code",
      "metadata": {
        "ExecuteTime": {
          "end_time": "2021-09-12T12:24:08.654005Z",
          "start_time": "2021-09-12T12:24:03.503893Z"
        },
        "tags": [
          "hide-cell"
        ],
        "id": "1b3ecc3f"
      },
      "source": [
        "!python -m spacy download en_core_web_sm"
      ],
      "id": "1b3ecc3f",
      "execution_count": null,
      "outputs": []
    },
    {
      "cell_type": "markdown",
      "metadata": {
        "id": "cf4dbaa0"
      },
      "source": [
        "If you want to extract a contiguous sequence of 2 words, for example, 'data science', not 'data', what should you do? That is when the concept of extracting n-gram from text becomes useful.\n",
        "\n",
        "A really useful tool to easily extract n-gram with a specified number of words in the sequence is `textacy`. "
      ],
      "id": "cf4dbaa0"
    },
    {
      "cell_type": "code",
      "metadata": {
        "ExecuteTime": {
          "end_time": "2021-09-12T01:12:52.794641Z",
          "start_time": "2021-09-12T01:12:51.502009Z"
        },
        "id": "682557d5",
        "outputId": "7812377a-b7cc-461d-d96d-f0ad983c4fa2"
      },
      "source": [
        "import pandas as pd \n",
        "import spacy \n",
        "from textacy.extract import ngrams\n",
        "\n",
        "nlp = spacy.load('en_core_web_sm')\n",
        "\n",
        "text = nlp('Data science is an inter-disciplinary field that uses'\n",
        "' scientific methods, processes, algorithms, and systme to extract'\n",
        "' knowledge and insights from many structural and unstructured data.')\n",
        "\n",
        "n_grams = 2 # contiguous sequence of a word\n",
        "min_freq = 1 # extract n -gram based on its frequency\n",
        "\n",
        "pd.Series([n.text for n in ngrams(text, n=n_grams, min_freq=1)]).value_counts()"
      ],
      "id": "682557d5",
      "execution_count": null,
      "outputs": [
        {
          "data": {
            "text/plain": [
              "Data science          1\n",
              "disciplinary field    1\n",
              "uses scientific       1\n",
              "scientific methods    1\n",
              "extract knowledge     1\n",
              "unstructured data     1\n",
              "dtype: int64"
            ]
          },
          "execution_count": 17,
          "metadata": {},
          "output_type": "execute_result"
        }
      ]
    },
    {
      "cell_type": "markdown",
      "metadata": {
        "id": "40a0bd44"
      },
      "source": [
        "[Link to textacy](https://textacy.readthedocs.io/en/stable/quickstart.html#working-with-text)"
      ],
      "id": "40a0bd44"
    },
    {
      "cell_type": "markdown",
      "metadata": {
        "id": "040bd4b1"
      },
      "source": [
        "### Convert Number to Words\n"
      ],
      "id": "040bd4b1"
    },
    {
      "cell_type": "code",
      "metadata": {
        "tags": [
          "hide-cell"
        ],
        "id": "fb172def"
      },
      "source": [
        "!pip install num2words"
      ],
      "id": "fb172def",
      "execution_count": null,
      "outputs": []
    },
    {
      "cell_type": "markdown",
      "metadata": {
        "id": "aef1c93b"
      },
      "source": [
        "If there are both number 105 and the words ‘one hundred and five’ in a text, they should deliver the same meaning. How can we map 105 to ‘one hundred and five’? There is a Python libary to convert number to words called `num2words`."
      ],
      "id": "aef1c93b"
    },
    {
      "cell_type": "code",
      "metadata": {
        "ExecuteTime": {
          "end_time": "2021-09-12T01:17:44.525617Z",
          "start_time": "2021-09-12T01:17:44.463076Z"
        },
        "id": "d3ba4c1f",
        "outputId": "f4e4fb19-7c2f-4b89-9892-96abc003264c"
      },
      "source": [
        "from num2words import num2words\n",
        "\n",
        "num2words(105)"
      ],
      "id": "d3ba4c1f",
      "execution_count": null,
      "outputs": [
        {
          "data": {
            "text/plain": [
              "'one hundred and five'"
            ]
          },
          "execution_count": 21,
          "metadata": {},
          "output_type": "execute_result"
        }
      ]
    },
    {
      "cell_type": "code",
      "metadata": {
        "ExecuteTime": {
          "end_time": "2021-09-12T01:17:53.134501Z",
          "start_time": "2021-09-12T01:17:53.126101Z"
        },
        "id": "7a379948",
        "outputId": "9b27178c-3802-4b0f-fef3-4dd71a2f1469"
      },
      "source": [
        "num2words(105, to='ordinal')"
      ],
      "id": "7a379948",
      "execution_count": null,
      "outputs": [
        {
          "data": {
            "text/plain": [
              "'one hundred and fifth'"
            ]
          },
          "execution_count": 22,
          "metadata": {},
          "output_type": "execute_result"
        }
      ]
    },
    {
      "cell_type": "markdown",
      "metadata": {
        "id": "81498145"
      },
      "source": [
        "The library can also generate ordinal numbers and support multiple languages! "
      ],
      "id": "81498145"
    },
    {
      "cell_type": "code",
      "metadata": {
        "ExecuteTime": {
          "end_time": "2021-09-12T01:18:04.781863Z",
          "start_time": "2021-09-12T01:18:04.774405Z"
        },
        "id": "4f79b0cc",
        "outputId": "e68e7de5-9ee2-4cf2-b53b-a4d1a265bce5"
      },
      "source": [
        "num2words(105, lang='vi')"
      ],
      "id": "4f79b0cc",
      "execution_count": null,
      "outputs": [
        {
          "name": "stdout",
          "output_type": "stream",
          "text": [
            "một trăm lẻ năm\n"
          ]
        }
      ]
    },
    {
      "cell_type": "code",
      "metadata": {
        "ExecuteTime": {
          "end_time": "2021-09-12T01:18:29.030052Z",
          "start_time": "2021-09-12T01:18:29.022006Z"
        },
        "id": "1e78e675",
        "outputId": "e8e2442d-42d8-4995-a52c-ec419163f5c3"
      },
      "source": [
        "num2words(105, lang='es')"
      ],
      "id": "1e78e675",
      "execution_count": null,
      "outputs": [
        {
          "data": {
            "text/plain": [
              "'ciento cinco'"
            ]
          },
          "execution_count": 25,
          "metadata": {},
          "output_type": "execute_result"
        }
      ]
    },
    {
      "cell_type": "markdown",
      "metadata": {
        "id": "56643f49"
      },
      "source": [
        "[Link to num2words](https://github.com/savoirfairelinux/num2words)."
      ],
      "id": "56643f49"
    },
    {
      "cell_type": "markdown",
      "metadata": {
        "id": "60f4b297"
      },
      "source": [
        "### texthero.clean: Preprocess Text in One Line of Code"
      ],
      "id": "60f4b297"
    },
    {
      "cell_type": "code",
      "metadata": {
        "tags": [
          "hide-cell"
        ],
        "id": "d8694454"
      },
      "source": [
        "!pip install texthero"
      ],
      "id": "d8694454",
      "execution_count": null,
      "outputs": []
    },
    {
      "cell_type": "markdown",
      "metadata": {
        "id": "5587cf7f"
      },
      "source": [
        "If you want to preprocess text in one line of code, try texthero. The `texthero.clean` method will:\n",
        "\n",
        "- fill missing values\n",
        "- convert upper case to lower case\n",
        "- remove digits\n",
        "- remove punctuation\n",
        "- remove stopwords\n",
        "- remove whitespace\n",
        "\n",
        "The code below shows an example of `texthero.clean`."
      ],
      "id": "5587cf7f"
    },
    {
      "cell_type": "code",
      "metadata": {
        "ExecuteTime": {
          "end_time": "2021-09-12T01:20:58.147789Z",
          "start_time": "2021-09-12T01:20:57.533270Z"
        },
        "id": "968c0243",
        "outputId": "eea1f4c3-7c68-4c13-cd29-547490b6113e"
      },
      "source": [
        "import numpy as np\n",
        "import pandas as pd\n",
        "import texthero as hero\n",
        "\n",
        "df = pd.DataFrame(\n",
        "    {\n",
        "        \"text\": [\n",
        "            \"Today is a    beautiful day\",\n",
        "            \"There are 3 ducks in this pond\",\n",
        "            \"This is. very cool.\",\n",
        "            np.nan,\n",
        "        ]\n",
        "    }\n",
        ")\n",
        "\n",
        "df.text.pipe(hero.clean)"
      ],
      "id": "968c0243",
      "execution_count": null,
      "outputs": [
        {
          "data": {
            "text/plain": [
              "0    today beautiful day\n",
              "1             ducks pond\n",
              "2                   cool\n",
              "3                       \n",
              "Name: text, dtype: object"
            ]
          },
          "execution_count": 27,
          "metadata": {},
          "output_type": "execute_result"
        }
      ]
    },
    {
      "cell_type": "markdown",
      "metadata": {
        "id": "a87d741a"
      },
      "source": [
        "Texthero also provides other useful methods to process and visualize text.\n",
        "\n",
        "[Link to texthero](https://github.com/jbesomi/texthero)."
      ],
      "id": "a87d741a"
    },
    {
      "cell_type": "markdown",
      "metadata": {
        "id": "ac3289d9"
      },
      "source": [
        "### wordfreq: Estimate the Frequency of a Word in 36 Languages"
      ],
      "id": "ac3289d9"
    },
    {
      "cell_type": "code",
      "metadata": {
        "tags": [
          "hide-cell"
        ],
        "id": "8953b1ef"
      },
      "source": [
        "!pip install wordfreq"
      ],
      "id": "8953b1ef",
      "execution_count": null,
      "outputs": []
    },
    {
      "cell_type": "markdown",
      "metadata": {
        "id": "52a50df1"
      },
      "source": [
        "If you want to look up the frequency of a certain word in your language, try wordfreq.\n",
        "\n",
        "wordfreq supports 36 languages. wordfreq even covers words that appear at least once per 10 million words."
      ],
      "id": "52a50df1"
    },
    {
      "cell_type": "code",
      "metadata": {
        "ExecuteTime": {
          "end_time": "2021-09-12T01:22:51.500416Z",
          "start_time": "2021-09-12T01:22:51.144681Z"
        },
        "id": "ae9d7283",
        "outputId": "b9126e08-a212-4bd8-a1d4-40e8d73920c4"
      },
      "source": [
        "import matplotlib.pyplot as plt\n",
        "import seaborn as sns\n",
        "from wordfreq import word_frequency\n",
        "\n",
        "word_frequency(\"eat\", \"en\")"
      ],
      "id": "ae9d7283",
      "execution_count": null,
      "outputs": [
        {
          "data": {
            "text/plain": [
              "0.000135"
            ]
          },
          "execution_count": 31,
          "metadata": {},
          "output_type": "execute_result"
        }
      ]
    },
    {
      "cell_type": "code",
      "metadata": {
        "ExecuteTime": {
          "end_time": "2021-09-12T01:22:59.897654Z",
          "start_time": "2021-09-12T01:22:59.889090Z"
        },
        "id": "aeb56cee",
        "outputId": "8a0e4420-ff65-4b82-e281-f3c654f453b9"
      },
      "source": [
        "word_frequency(\"the\", \"en\")"
      ],
      "id": "aeb56cee",
      "execution_count": null,
      "outputs": [
        {
          "data": {
            "text/plain": [
              "0.0537"
            ]
          },
          "execution_count": 32,
          "metadata": {},
          "output_type": "execute_result"
        }
      ]
    },
    {
      "cell_type": "code",
      "metadata": {
        "ExecuteTime": {
          "end_time": "2021-09-12T01:23:03.673539Z",
          "start_time": "2021-09-12T01:23:03.436036Z"
        },
        "id": "b44c4d07",
        "outputId": "4064fa9e-9e81-45f7-c723-c8a19606d102"
      },
      "source": [
        "sentence = \"There is a dog running in a park\"\n",
        "words = sentence.split(\" \")\n",
        "word_frequencies = [word_frequency(word, \"en\") for word in words]\n",
        "\n",
        "sns.barplot(words, word_frequencies)\n",
        "plt.show()"
      ],
      "id": "b44c4d07",
      "execution_count": null,
      "outputs": [
        {
          "name": "stderr",
          "output_type": "stream",
          "text": [
            "/home/khuyen/book/venv/lib/python3.8/site-packages/seaborn/_decorators.py:36: FutureWarning: Pass the following variables as keyword args: x, y. From version 0.12, the only valid positional argument will be `data`, and passing other arguments without an explicit keyword will result in an error or misinterpretation.\n",
            "  warnings.warn(\n"
          ]
        },
        {
          "data": {
            "image/png": "[encoded data removed]",
            "text/plain": [
              "<Figure size 432x288 with 1 Axes>"
            ]
          },
          "metadata": {
            "needs_background": "light"
          },
          "output_type": "display_data"
        }
      ]
    },
    {
      "cell_type": "markdown",
      "metadata": {
        "id": "b3ed999d"
      },
      "source": [
        "[Link to wordfreq](https://github.com/khuyentran1401/Python-data-science-code-snippet/blob/master/code_snippets/data_science_tools/wordfreq_example.py)."
      ],
      "id": "b3ed999d"
    },
    {
      "cell_type": "markdown",
      "metadata": {
        "id": "3eebf9b7"
      },
      "source": [
        "### newspaper3k: Extract Meaningful Information From an Articles in 2 Lines of Code"
      ],
      "id": "3eebf9b7"
    },
    {
      "cell_type": "code",
      "metadata": {
        "ExecuteTime": {
          "end_time": "2021-09-12T21:56:27.223712Z",
          "start_time": "2021-09-12T21:56:25.491100Z"
        },
        "tags": [
          "hide-cell"
        ],
        "id": "1a6804ef"
      },
      "source": [
        "!pip install newspaper3k nltk"
      ],
      "id": "1a6804ef",
      "execution_count": null,
      "outputs": []
    },
    {
      "cell_type": "markdown",
      "metadata": {
        "id": "fc9a749b"
      },
      "source": [
        "If you want to quickly extract meaningful information from an article in a few lines of code, try newspaper3k. "
      ],
      "id": "fc9a749b"
    },
    {
      "cell_type": "code",
      "metadata": {
        "ExecuteTime": {
          "end_time": "2021-09-11T19:12:24.743567Z",
          "start_time": "2021-09-11T19:12:24.724143Z"
        },
        "id": "5508ed20",
        "outputId": "90cfcd6c-0e18-4332-987b-3f123e2d09bd"
      },
      "source": [
        "from newspaper import Article\n",
        "import nltk\n",
        "\n",
        "nltk.download(\"punkt\")"
      ],
      "id": "5508ed20",
      "execution_count": null,
      "outputs": [
        {
          "name": "stderr",
          "output_type": "stream",
          "text": [
            "[nltk_data] Downloading package punkt to /home/khuyen/nltk_data...\n",
            "[nltk_data]   Package punkt is already up-to-date!\n"
          ]
        },
        {
          "data": {
            "text/plain": [
              "True"
            ]
          },
          "execution_count": 20,
          "metadata": {},
          "output_type": "execute_result"
        },
        {
          "data": {
            "application/javascript": [
              "\n",
              "            setTimeout(function() {\n",
              "                var nbb_cell_id = 20;\n",
              "                var nbb_unformatted_code = \"from newspaper import Article\\nimport nltk\\nnltk.download('punkt')\";\n",
              "                var nbb_formatted_code = \"from newspaper import Article\\nimport nltk\\n\\nnltk.download(\\\"punkt\\\")\";\n",
              "                var nbb_cells = Jupyter.notebook.get_cells();\n",
              "                for (var i = 0; i < nbb_cells.length; ++i) {\n",
              "                    if (nbb_cells[i].input_prompt_number == nbb_cell_id) {\n",
              "                        if (nbb_cells[i].get_text() == nbb_unformatted_code) {\n",
              "                             nbb_cells[i].set_text(nbb_formatted_code);\n",
              "                        }\n",
              "                        break;\n",
              "                    }\n",
              "                }\n",
              "            }, 500);\n",
              "            "
            ],
            "text/plain": [
              "<IPython.core.display.Javascript object>"
            ]
          },
          "metadata": {},
          "output_type": "display_data"
        }
      ]
    },
    {
      "cell_type": "code",
      "metadata": {
        "ExecuteTime": {
          "end_time": "2021-09-11T19:12:33.703140Z",
          "start_time": "2021-09-11T19:12:32.623817Z"
        },
        "id": "e4e566da",
        "outputId": "9eadce98-191e-4dde-cc10-a57c842eda78"
      },
      "source": [
        "url = \"https://www.dataquest.io/blog/learn-data-science/\"\n",
        "article = Article(url)\n",
        "article.download()\n",
        "article.parse()"
      ],
      "id": "e4e566da",
      "execution_count": null,
      "outputs": [
        {
          "data": {
            "application/javascript": [
              "\n",
              "            setTimeout(function() {\n",
              "                var nbb_cell_id = 21;\n",
              "                var nbb_unformatted_code = \"url = \\\"https://www.dataquest.io/blog/learn-data-science/\\\"\\narticle = Article(url)\\narticle.download()\\narticle.parse()\";\n",
              "                var nbb_formatted_code = \"url = \\\"https://www.dataquest.io/blog/learn-data-science/\\\"\\narticle = Article(url)\\narticle.download()\\narticle.parse()\";\n",
              "                var nbb_cells = Jupyter.notebook.get_cells();\n",
              "                for (var i = 0; i < nbb_cells.length; ++i) {\n",
              "                    if (nbb_cells[i].input_prompt_number == nbb_cell_id) {\n",
              "                        if (nbb_cells[i].get_text() == nbb_unformatted_code) {\n",
              "                             nbb_cells[i].set_text(nbb_formatted_code);\n",
              "                        }\n",
              "                        break;\n",
              "                    }\n",
              "                }\n",
              "            }, 500);\n",
              "            "
            ],
            "text/plain": [
              "<IPython.core.display.Javascript object>"
            ]
          },
          "metadata": {},
          "output_type": "display_data"
        }
      ]
    },
    {
      "cell_type": "code",
      "metadata": {
        "ExecuteTime": {
          "end_time": "2021-09-11T19:12:39.679832Z",
          "start_time": "2021-09-11T19:12:39.663924Z"
        },
        "id": "e50e2ff8",
        "outputId": "293924e3-39e1-48d2-d9bf-e9edaa82adfc"
      },
      "source": [
        "article.title"
      ],
      "id": "e50e2ff8",
      "execution_count": null,
      "outputs": [
        {
          "data": {
            "text/plain": [
              "'How to Learn Data Science (A step-by-step guide)'"
            ]
          },
          "execution_count": 22,
          "metadata": {},
          "output_type": "execute_result"
        },
        {
          "data": {
            "application/javascript": [
              "\n",
              "            setTimeout(function() {\n",
              "                var nbb_cell_id = 22;\n",
              "                var nbb_unformatted_code = \"article.title\";\n",
              "                var nbb_formatted_code = \"article.title\";\n",
              "                var nbb_cells = Jupyter.notebook.get_cells();\n",
              "                for (var i = 0; i < nbb_cells.length; ++i) {\n",
              "                    if (nbb_cells[i].input_prompt_number == nbb_cell_id) {\n",
              "                        if (nbb_cells[i].get_text() == nbb_unformatted_code) {\n",
              "                             nbb_cells[i].set_text(nbb_formatted_code);\n",
              "                        }\n",
              "                        break;\n",
              "                    }\n",
              "                }\n",
              "            }, 500);\n",
              "            "
            ],
            "text/plain": [
              "<IPython.core.display.Javascript object>"
            ]
          },
          "metadata": {},
          "output_type": "display_data"
        }
      ]
    },
    {
      "cell_type": "code",
      "metadata": {
        "ExecuteTime": {
          "end_time": "2021-09-11T19:12:44.416486Z",
          "start_time": "2021-09-11T19:12:44.400053Z"
        },
        "id": "9367a144",
        "outputId": "a38b1798-d3d8-4477-fbff-b2f2021bb7fd"
      },
      "source": [
        "article.publish_date"
      ],
      "id": "9367a144",
      "execution_count": null,
      "outputs": [
        {
          "data": {
            "text/plain": [
              "datetime.datetime(2020, 5, 4, 7, 1, tzinfo=tzutc())"
            ]
          },
          "execution_count": 23,
          "metadata": {},
          "output_type": "execute_result"
        },
        {
          "data": {
            "application/javascript": [
              "\n",
              "            setTimeout(function() {\n",
              "                var nbb_cell_id = 23;\n",
              "                var nbb_unformatted_code = \"article.publish_date\";\n",
              "                var nbb_formatted_code = \"article.publish_date\";\n",
              "                var nbb_cells = Jupyter.notebook.get_cells();\n",
              "                for (var i = 0; i < nbb_cells.length; ++i) {\n",
              "                    if (nbb_cells[i].input_prompt_number == nbb_cell_id) {\n",
              "                        if (nbb_cells[i].get_text() == nbb_unformatted_code) {\n",
              "                             nbb_cells[i].set_text(nbb_formatted_code);\n",
              "                        }\n",
              "                        break;\n",
              "                    }\n",
              "                }\n",
              "            }, 500);\n",
              "            "
            ],
            "text/plain": [
              "<IPython.core.display.Javascript object>"
            ]
          },
          "metadata": {},
          "output_type": "display_data"
        }
      ]
    },
    {
      "cell_type": "code",
      "metadata": {
        "ExecuteTime": {
          "end_time": "2021-09-11T19:12:49.319814Z",
          "start_time": "2021-09-11T19:12:49.304319Z"
        },
        "id": "ff421812",
        "outputId": "c77798c6-6d96-4728-d6a8-553d307f4a9e"
      },
      "source": [
        "article.top_image"
      ],
      "id": "ff421812",
      "execution_count": null,
      "outputs": [
        {
          "data": {
            "text/plain": [
              "'https://www.dataquest.io/wp-content/uploads/2020/05/learn-data-science.jpg'"
            ]
          },
          "execution_count": 24,
          "metadata": {},
          "output_type": "execute_result"
        },
        {
          "data": {
            "application/javascript": [
              "\n",
              "            setTimeout(function() {\n",
              "                var nbb_cell_id = 24;\n",
              "                var nbb_unformatted_code = \"article.top_image\";\n",
              "                var nbb_formatted_code = \"article.top_image\";\n",
              "                var nbb_cells = Jupyter.notebook.get_cells();\n",
              "                for (var i = 0; i < nbb_cells.length; ++i) {\n",
              "                    if (nbb_cells[i].input_prompt_number == nbb_cell_id) {\n",
              "                        if (nbb_cells[i].get_text() == nbb_unformatted_code) {\n",
              "                             nbb_cells[i].set_text(nbb_formatted_code);\n",
              "                        }\n",
              "                        break;\n",
              "                    }\n",
              "                }\n",
              "            }, 500);\n",
              "            "
            ],
            "text/plain": [
              "<IPython.core.display.Javascript object>"
            ]
          },
          "metadata": {},
          "output_type": "display_data"
        }
      ]
    },
    {
      "cell_type": "code",
      "metadata": {
        "ExecuteTime": {
          "end_time": "2021-09-11T19:12:56.330559Z",
          "start_time": "2021-09-11T19:12:56.271488Z"
        },
        "id": "b93c066d",
        "outputId": "852deecc-5834-44fe-b45d-f3ba6fa3058d"
      },
      "source": [
        "article.nlp()"
      ],
      "id": "b93c066d",
      "execution_count": null,
      "outputs": [
        {
          "data": {
            "application/javascript": [
              "\n",
              "            setTimeout(function() {\n",
              "                var nbb_cell_id = 25;\n",
              "                var nbb_unformatted_code = \"article.nlp()\";\n",
              "                var nbb_formatted_code = \"article.nlp()\";\n",
              "                var nbb_cells = Jupyter.notebook.get_cells();\n",
              "                for (var i = 0; i < nbb_cells.length; ++i) {\n",
              "                    if (nbb_cells[i].input_prompt_number == nbb_cell_id) {\n",
              "                        if (nbb_cells[i].get_text() == nbb_unformatted_code) {\n",
              "                             nbb_cells[i].set_text(nbb_formatted_code);\n",
              "                        }\n",
              "                        break;\n",
              "                    }\n",
              "                }\n",
              "            }, 500);\n",
              "            "
            ],
            "text/plain": [
              "<IPython.core.display.Javascript object>"
            ]
          },
          "metadata": {},
          "output_type": "display_data"
        }
      ]
    },
    {
      "cell_type": "code",
      "metadata": {
        "ExecuteTime": {
          "end_time": "2021-09-11T19:13:00.681926Z",
          "start_time": "2021-09-11T19:13:00.666440Z"
        },
        "id": "182ef99e",
        "outputId": "98ca1b1a-d299-4df0-f83d-f67460ad183f"
      },
      "source": [
        "article.summary"
      ],
      "id": "182ef99e",
      "execution_count": null,
      "outputs": [
        {
          "data": {
            "text/plain": [
              "'How to Learn Data ScienceSo how do you start to learn data science?\\nIf you want to learn data science or just pick up some data science skills, your first goal should be to learn to love data.\\nRather, consider it as a rough set of guidelines to follow as you learn data science on your own path.\\nI personally believe that anyone can learn data science if they approach it with the right frame of mind.\\nI’m also the founder of Dataquest, a site that helps you learn data science in your browser.'"
            ]
          },
          "execution_count": 26,
          "metadata": {},
          "output_type": "execute_result"
        },
        {
          "data": {
            "application/javascript": [
              "\n",
              "            setTimeout(function() {\n",
              "                var nbb_cell_id = 26;\n",
              "                var nbb_unformatted_code = \"article.summary\";\n",
              "                var nbb_formatted_code = \"article.summary\";\n",
              "                var nbb_cells = Jupyter.notebook.get_cells();\n",
              "                for (var i = 0; i < nbb_cells.length; ++i) {\n",
              "                    if (nbb_cells[i].input_prompt_number == nbb_cell_id) {\n",
              "                        if (nbb_cells[i].get_text() == nbb_unformatted_code) {\n",
              "                             nbb_cells[i].set_text(nbb_formatted_code);\n",
              "                        }\n",
              "                        break;\n",
              "                    }\n",
              "                }\n",
              "            }, 500);\n",
              "            "
            ],
            "text/plain": [
              "<IPython.core.display.Javascript object>"
            ]
          },
          "metadata": {},
          "output_type": "display_data"
        }
      ]
    },
    {
      "cell_type": "code",
      "metadata": {
        "ExecuteTime": {
          "end_time": "2021-09-11T19:13:05.338257Z",
          "start_time": "2021-09-11T19:13:05.322325Z"
        },
        "id": "d2b3b04e",
        "outputId": "648d0dbd-e933-48d2-a01c-56bedb6f2aed"
      },
      "source": [
        "article.keywords"
      ],
      "id": "d2b3b04e",
      "execution_count": null,
      "outputs": [
        {
          "data": {
            "text/plain": [
              "['scientists',\n",
              " 'guide',\n",
              " 'learning',\n",
              " 'youre',\n",
              " 'science',\n",
              " 'work',\n",
              " 'skills',\n",
              " 'youll',\n",
              " 'data',\n",
              " 'learn',\n",
              " 'stepbystep',\n",
              " 'need']"
            ]
          },
          "execution_count": 27,
          "metadata": {},
          "output_type": "execute_result"
        },
        {
          "data": {
            "application/javascript": [
              "\n",
              "            setTimeout(function() {\n",
              "                var nbb_cell_id = 27;\n",
              "                var nbb_unformatted_code = \"article.keywords\";\n",
              "                var nbb_formatted_code = \"article.keywords\";\n",
              "                var nbb_cells = Jupyter.notebook.get_cells();\n",
              "                for (var i = 0; i < nbb_cells.length; ++i) {\n",
              "                    if (nbb_cells[i].input_prompt_number == nbb_cell_id) {\n",
              "                        if (nbb_cells[i].get_text() == nbb_unformatted_code) {\n",
              "                             nbb_cells[i].set_text(nbb_formatted_code);\n",
              "                        }\n",
              "                        break;\n",
              "                    }\n",
              "                }\n",
              "            }, 500);\n",
              "            "
            ],
            "text/plain": [
              "<IPython.core.display.Javascript object>"
            ]
          },
          "metadata": {},
          "output_type": "display_data"
        }
      ]
    },
    {
      "cell_type": "markdown",
      "metadata": {
        "id": "db3efc37"
      },
      "source": [
        "[Link to newspaper3k](https://newspaper.readthedocs.io/en/latest/user_guide/quickstart.html?highlight=parse#performing-nlp-on-an-article).\n",
        "\n"
      ],
      "id": "db3efc37"
    },
    {
      "cell_type": "markdown",
      "metadata": {
        "id": "46dfb738"
      },
      "source": [
        "### Questgen.ai: Question Generator in Python"
      ],
      "id": "46dfb738"
    },
    {
      "cell_type": "code",
      "metadata": {
        "ExecuteTime": {
          "end_time": "2021-11-03T12:44:17.237243Z",
          "start_time": "2021-11-03T12:43:07.420999Z"
        },
        "tags": [
          "hide-cell"
        ],
        "id": "64608453"
      },
      "source": [
        "!pip install git+https://github.com/ramsrigouthamg/Questgen.ai\n",
        "!pip install git+https://github.com/boudinfl/pke.git\n",
        "\n",
        "!python -m nltk.downloader universal_tagset\n",
        "!python -m spacy download en "
      ],
      "id": "64608453",
      "execution_count": null,
      "outputs": []
    },
    {
      "cell_type": "code",
      "metadata": {
        "ExecuteTime": {
          "end_time": "2021-11-03T13:01:36.813376Z",
          "start_time": "2021-11-03T12:54:03.103240Z"
        },
        "tags": [
          "hide-cell"
        ],
        "id": "83bbacf2"
      },
      "source": [
        "!wget https://github.com/explosion/sense2vec/releases/download/v1.0.0/s2v_reddit_2015_md.tar.gz\n",
        "!tar -xvf  s2v_reddit_2015_md.tar.gz"
      ],
      "id": "83bbacf2",
      "execution_count": null,
      "outputs": []
    },
    {
      "cell_type": "markdown",
      "metadata": {
        "id": "981d54e6"
      },
      "source": [
        "It can be time-consuming to generate questions for a document. Wouldn't it be nice if you can automatically generate questions using Python? That is when `Questgen.ai` comes in handy. \n",
        "\n",
        "With a few lines of code, the questions for your document are automatically generated."
      ],
      "id": "981d54e6"
    },
    {
      "cell_type": "code",
      "metadata": {
        "ExecuteTime": {
          "end_time": "2021-11-03T12:48:11.011581Z",
          "start_time": "2021-11-03T12:44:37.367653Z"
        },
        "id": "967ef9b3"
      },
      "source": [
        "from pprint import pprint\n",
        "import nltk\n",
        "nltk.download('stopwords')\n",
        "from Questgen import main"
      ],
      "id": "967ef9b3",
      "execution_count": null,
      "outputs": []
    },
    {
      "cell_type": "code",
      "metadata": {
        "ExecuteTime": {
          "end_time": "2021-11-03T13:11:36.483160Z",
          "start_time": "2021-11-03T13:11:36.467487Z"
        },
        "id": "2438e4b6",
        "outputId": "225a64c1-a751-44a8-903e-0ba4957c9c21"
      },
      "source": [
        "payload = {\n",
        "    \"input_text\": \"\"\"The weather today was nice so I went for a walk. I stopped for a quick chat with my neighbor.\n",
        "    It turned out that my neighbor just got a dog named Pepper. It is a black Labrador Retriever.\"\"\"\n",
        "}"
      ],
      "id": "2438e4b6",
      "execution_count": null,
      "outputs": [
        {
          "data": {
            "application/javascript": [
              "\n",
              "            setTimeout(function() {\n",
              "                var nbb_cell_id = 21;\n",
              "                var nbb_unformatted_code = \"payload = {\\n    \\\"input_text\\\": \\\"\\\"\\\"The weather today was nice so I went for a walk. I stopped for a quick chat with my neighbor.\\n    It turned out that my neighbor just got a dog named Pepper. It is a black Labrador Retriever.\\\"\\\"\\\"\\n}\";\n",
              "                var nbb_formatted_code = \"payload = {\\n    \\\"input_text\\\": \\\"\\\"\\\"The weather today was nice so I went for a walk. I stopped for a quick chat with my neighbor.\\n    It turned out that my neighbor just got a dog named Pepper. It is a black Labrador Retriever.\\\"\\\"\\\"\\n}\";\n",
              "                var nbb_cells = Jupyter.notebook.get_cells();\n",
              "                for (var i = 0; i < nbb_cells.length; ++i) {\n",
              "                    if (nbb_cells[i].input_prompt_number == nbb_cell_id) {\n",
              "                        if (nbb_cells[i].get_text() == nbb_unformatted_code) {\n",
              "                             nbb_cells[i].set_text(nbb_formatted_code);\n",
              "                        }\n",
              "                        break;\n",
              "                    }\n",
              "                }\n",
              "            }, 500);\n",
              "            "
            ],
            "text/plain": [
              "<IPython.core.display.Javascript object>"
            ]
          },
          "metadata": {},
          "output_type": "display_data"
        }
      ]
    },
    {
      "cell_type": "markdown",
      "metadata": {
        "id": "bdbcf960"
      },
      "source": [
        "With `Questgen.ai`, you can either generate boolean questions:"
      ],
      "id": "bdbcf960"
    },
    {
      "cell_type": "code",
      "metadata": {
        "ExecuteTime": {
          "end_time": "2021-11-03T13:11:42.576050Z",
          "start_time": "2021-11-03T13:11:37.248535Z"
        },
        "id": "867f0c5d",
        "outputId": "05ad3466-c344-409c-94e1-47753e26f3b6"
      },
      "source": [
        "qe = main.BoolQGen()\n",
        "output = qe.predict_boolq(payload)\n",
        "pprint(output)"
      ],
      "id": "867f0c5d",
      "execution_count": null,
      "outputs": [
        {
          "name": "stdout",
          "output_type": "stream",
          "text": [
            "{'Boolean Questions': ['Is there a dog in my neighborhood?',\n",
            "                       \"Is pepper my neighbor's dog?\",\n",
            "                       'Is pepper the same as a labrador?'],\n",
            " 'Count': 4,\n",
            " 'Text': 'The weather today was nice so I went for a walk. I stopped for a '\n",
            "         'quick chat with my neighbor.\\n'\n",
            "         '    It turned out that my neighbor just got a dog named Pepper. It '\n",
            "         'is a black Labrador Retriever.'}\n"
          ]
        },
        {
          "data": {
            "application/javascript": [
              "\n",
              "            setTimeout(function() {\n",
              "                var nbb_cell_id = 22;\n",
              "                var nbb_unformatted_code = \"qe = main.BoolQGen()\\noutput = qe.predict_boolq(payload)\\npprint(output)\";\n",
              "                var nbb_formatted_code = \"qe = main.BoolQGen()\\noutput = qe.predict_boolq(payload)\\npprint(output)\";\n",
              "                var nbb_cells = Jupyter.notebook.get_cells();\n",
              "                for (var i = 0; i < nbb_cells.length; ++i) {\n",
              "                    if (nbb_cells[i].input_prompt_number == nbb_cell_id) {\n",
              "                        if (nbb_cells[i].get_text() == nbb_unformatted_code) {\n",
              "                             nbb_cells[i].set_text(nbb_formatted_code);\n",
              "                        }\n",
              "                        break;\n",
              "                    }\n",
              "                }\n",
              "            }, 500);\n",
              "            "
            ],
            "text/plain": [
              "<IPython.core.display.Javascript object>"
            ]
          },
          "metadata": {},
          "output_type": "display_data"
        }
      ]
    },
    {
      "cell_type": "markdown",
      "metadata": {
        "id": "16448c3c"
      },
      "source": [
        "... or generate FAQ questions:"
      ],
      "id": "16448c3c"
    },
    {
      "cell_type": "code",
      "metadata": {
        "ExecuteTime": {
          "end_time": "2021-11-03T13:11:43.522500Z",
          "start_time": "2021-11-03T13:11:42.577676Z"
        },
        "id": "c44be100",
        "outputId": "297675b3-6d8a-4012-cc1b-57c1a729989b"
      },
      "source": [
        "output = qg.predict_shortq(payload)\n",
        "pprint(output)"
      ],
      "id": "c44be100",
      "execution_count": null,
      "outputs": [
        {
          "name": "stdout",
          "output_type": "stream",
          "text": [
            "Running model for generation\n",
            "{'questions': [{'Question': 'What was the purpose of the stop?', 'Answer': 'chat', 'id': 1, 'context': 'I stopped for a quick chat with my neighbor.'}, {'Question': 'Who got a dog named Pepper?', 'Answer': 'neighbor', 'id': 2, 'context': 'It turned out that my neighbor just got a dog named Pepper. I stopped for a quick chat with my neighbor.'}]}\n",
            "{'questions': [{'Answer': 'chat',\n",
            "                'Question': 'What was the purpose of the stop?',\n",
            "                'context': 'I stopped for a quick chat with my neighbor.',\n",
            "                'id': 1},\n",
            "               {'Answer': 'neighbor',\n",
            "                'Question': 'Who got a dog named Pepper?',\n",
            "                'context': 'It turned out that my neighbor just got a dog '\n",
            "                           'named Pepper. I stopped for a quick chat with my '\n",
            "                           'neighbor.',\n",
            "                'id': 2}],\n",
            " 'statement': 'The weather today was nice so I went for a walk. I stopped for '\n",
            "              'a quick chat with my neighbor. It turned out that my neighbor '\n",
            "              'just got a dog named Pepper. It is a black Labrador Retriever.'}\n"
          ]
        },
        {
          "data": {
            "application/javascript": [
              "\n",
              "            setTimeout(function() {\n",
              "                var nbb_cell_id = 23;\n",
              "                var nbb_unformatted_code = \"output = qg.predict_shortq(payload)\\npprint(output)\";\n",
              "                var nbb_formatted_code = \"output = qg.predict_shortq(payload)\\npprint(output)\";\n",
              "                var nbb_cells = Jupyter.notebook.get_cells();\n",
              "                for (var i = 0; i < nbb_cells.length; ++i) {\n",
              "                    if (nbb_cells[i].input_prompt_number == nbb_cell_id) {\n",
              "                        if (nbb_cells[i].get_text() == nbb_unformatted_code) {\n",
              "                             nbb_cells[i].set_text(nbb_formatted_code);\n",
              "                        }\n",
              "                        break;\n",
              "                    }\n",
              "                }\n",
              "            }, 500);\n",
              "            "
            ],
            "text/plain": [
              "<IPython.core.display.Javascript object>"
            ]
          },
          "metadata": {},
          "output_type": "display_data"
        }
      ]
    },
    {
      "cell_type": "markdown",
      "metadata": {
        "id": "cefda206"
      },
      "source": [
        "[Link to Questgen.ai](https://github.com/ramsrigouthamg/Questgen.ai)."
      ],
      "id": "cefda206"
    }
  ]
}